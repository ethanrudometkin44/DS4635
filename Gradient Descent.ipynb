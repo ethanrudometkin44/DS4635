{
 "cells": [
  {
   "cell_type": "code",
   "execution_count": 1,
   "metadata": {},
   "outputs": [],
   "source": [
    "\n",
    "import pandas as pd\n",
    "from sklearn.model_selection import train_test_split\n",
    "from sklearn.linear_model import SGDClassifier\n",
    "from sklearn.preprocessing import StandardScaler\n",
    "from sklearn.metrics import accuracy_score, precision_score, recall_score, f1_score\n",
    "from sklearn.feature_selection import SelectKBest, chi2\n",
    "\n",
    "from sklearn.metrics import confusion_matrix\n",
    "import seaborn as sn\n",
    "import matplotlib.pyplot as plt"
   ]
  },
  {
   "cell_type": "code",
   "execution_count": 2,
   "metadata": {},
   "outputs": [
    {
     "name": "stdout",
     "output_type": "stream",
     "text": [
      "Accuracy: 0.961468\n",
      "Precision: 0.8814660610648498\n",
      "Recall: 0.6431168592074378\n",
      "F1 score: 0.743660022885122\n"
     ]
    }
   ],
   "source": [
    "#Stochastic Gradient Descent; sources used for code/fns are below\n",
    "\n",
    "#https://realpython.com/gradient-descent-algorithm-python/\n",
    "#https://scikit-learn.org/stable/modules/generated/sklearn.linear_model.SGDClassifier.html\n",
    "#https://scikit-learn.org/stable/modules/generated/sklearn.preprocessing.StandardScaler.html\n",
    "#https://scikit-learn.org/stable/modules/generated/sklearn.metrics.f1_score.html\n",
    "\n",
    "\n",
    "\n",
    "\n",
    "#read the file\n",
    "df = pd.read_csv(\"card_transdata.csv\").dropna()\n",
    "x = df.drop(df.columns[[7]], axis=1) #all the parameters\n",
    "y = df.iloc[:, 7] #target values\n",
    "x_train, x_test, y_train, y_test = train_test_split(x, y, random_state=0, train_size = .75)\n",
    "\n",
    "#normalizing the data to fit the model better\n",
    "scaler = StandardScaler()\n",
    "x_train_norm = scaler.fit_transform(x_train)\n",
    "x_test_norm = scaler.fit_transform(x_test) #make sure this actually applies the same normalization here as it did to the training data\n",
    "\n",
    "\n",
    "#feature selector\n",
    "#selector = SelectKBest(score_func=chi2,k=3).fit_transform(x_train,y_train)\n",
    "#print(selector.shape)\n",
    "\n",
    "\n",
    "#fitting and creating the model using sklearn\n",
    "clf = SGDClassifier(loss = \"hinge\", max_iter=100)\n",
    "#gives linear regression, a probabilistic classifier.\n",
    "clf.fit(x_train_norm, y_train)\n",
    "\n",
    "#coefficients and bias\n",
    "#clf.coef_ => coefficients to determine the weights of each fo\n",
    "#clf.intercept_ => the intercept/ bias term\n",
    "\n",
    "#predicted values\n",
    "y_pred = clf.predict(x_test_norm)\n",
    "\n",
    "#calculate f1_score\n",
    "print('Accuracy:', accuracy_score(y_test, y_pred))\n",
    "print('Precision:', precision_score(y_test, y_pred))\n",
    "print('Recall:', recall_score(y_test, y_pred))\n",
    "print('F1 score:',f1_score(y_test, y_pred)) #0.7549407114624507"
   ]
  },
  {
   "cell_type": "code",
   "execution_count": 3,
   "metadata": {},
   "outputs": [
    {
     "data": {
      "image/png": "[encoded data removed]",
      "text/plain": [
       "<Figure size 720x504 with 2 Axes>"
      ]
     },
     "metadata": {
      "needs_background": "light"
     },
     "output_type": "display_data"
    }
   ],
   "source": [
    "cm = confusion_matrix(y_test, y_pred, labels=[0, 1])\n",
    "labels  =[0, 1]\n",
    "df_cfm = pd.DataFrame(cm, index = labels, columns = labels)\n",
    "plt.figure(figsize = (10,7))\n",
    "cfm_plot = sn.heatmap(df_cfm, annot=True)\n",
    "cfm_plot.figure.savefig(\"cfm.png\")\n"
   ]
  }
 ],
 "metadata": {
  "kernelspec": {
   "display_name": "Python 3",
   "language": "python",
   "name": "python3"
  },
  "language_info": {
   "codemirror_mode": {
    "name": "ipython",
    "version": 3
   },
   "file_extension": ".py",
   "mimetype": "text/x-python",
   "name": "python",
   "nbconvert_exporter": "python",
   "pygments_lexer": "ipython3",
   "version": "3.8.5"
  }
 },
 "nbformat": 4,
 "nbformat_minor": 4
}
